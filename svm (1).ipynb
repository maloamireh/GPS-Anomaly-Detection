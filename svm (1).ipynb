{
 "cells": [
  {
   "cell_type": "code",
   "execution_count": null,
   "id": "9999cca5",
   "metadata": {
    "scrolled": true
   },
   "outputs": [],
   "source": [
    "pip install pandas scikit-learn"
   ]
  },
  {
   "cell_type": "code",
   "execution_count": 6,
   "id": "ea0eddd0",
   "metadata": {},
   "outputs": [
    {
     "name": "stdout",
     "output_type": "stream",
     "text": [
      "Best parameters found:  {'C': 100, 'class_weight': {0: 1.2792022792022792, 1: 0.8208409506398537}, 'gamma': 'scale', 'kernel': 'rbf'}\n",
      "Cross-validation scores on training set: [0.98333333 0.90807799 0.91364903 0.89693593 0.86908078]\n",
      "Mean CV score: 0.9142154131847725\n",
      "Training Set Accuracy: 0.9320712694877505\n",
      "Training Set Classification Report:\n",
      "              precision    recall  f1-score   support\n",
      "\n",
      "         0.0       0.85      1.00      0.92       702\n",
      "         1.0       1.00      0.89      0.94      1094\n",
      "\n",
      "    accuracy                           0.93      1796\n",
      "   macro avg       0.93      0.94      0.93      1796\n",
      "weighted avg       0.94      0.93      0.93      1796\n",
      "\n",
      "Test Set Accuracy: 0.9377431906614786\n",
      "Test Set Classification Report:\n",
      "              precision    recall  f1-score   support\n",
      "\n",
      "         0.0       0.86      1.00      0.93       306\n",
      "         1.0       1.00      0.90      0.95       465\n",
      "\n",
      "    accuracy                           0.94       771\n",
      "   macro avg       0.93      0.95      0.94       771\n",
      "weighted avg       0.95      0.94      0.94       771\n",
      "\n"
     ]
    }
   ],
   "source": [
    "import numpy as np\n",
    "import pandas as pd\n",
    "from sklearn.model_selection import train_test_split, GridSearchCV, cross_val_score\n",
    "from sklearn.preprocessing import StandardScaler\n",
    "from sklearn.svm import SVC\n",
    "from sklearn.metrics import classification_report, accuracy_score\n",
    "from sklearn.utils.class_weight import compute_class_weight\n",
    "\n",
    "# Load the dataset\n",
    "file_path = '/users/riyakoduru/Downloads/avg_top10_bootstrapped.csv'\n",
    "data = pd.read_csv(file_path)\n",
    "\n",
    "# Assuming the last column is the target variable\n",
    "X = data.iloc[:, :-1]  # All columns except the last one are features\n",
    "y = data.iloc[:, -1]   # The last column is the target\n",
    "\n",
    "# Split dataset into training and testing sets\n",
    "X_train, X_test, y_train, y_test = train_test_split(X, y, test_size=0.3, random_state=42)\n",
    "\n",
    "# Standardize features\n",
    "scaler = StandardScaler()\n",
    "X_train_scaled = scaler.fit_transform(X_train)\n",
    "X_test_scaled = scaler.transform(X_test)\n",
    "\n",
    "# Calculate class weights\n",
    "class_weights = compute_class_weight('balanced', classes=np.unique(y_train), y=y_train)\n",
    "class_weights_dict = dict(enumerate(class_weights))\n",
    "\n",
    "# Define the SVM model with GridSearchCV for hyperparameter tuning\n",
    "parameters = {\n",
    "    'C': [0.1, 1, 10, 100],  # Regularization parameter\n",
    "    'gamma': ['scale', 'auto'],  # Kernel coefficient\n",
    "    'kernel': ['rbf', 'linear'],  # Type of kernel\n",
    "    'class_weight': [class_weights_dict]  # Handling imbalanced data\n",
    "}\n",
    "\n",
    "svm_clf = GridSearchCV(SVC(), parameters, cv=5, scoring='accuracy')\n",
    "svm_clf.fit(X_train_scaled, y_train)\n",
    "\n",
    "# Display best parameters\n",
    "print(\"Best parameters found: \", svm_clf.best_params_)\n",
    "\n",
    "# Perform cross-validation on the training set\n",
    "cv_scores = cross_val_score(svm_clf, X_train_scaled, y_train, cv=5)\n",
    "print(f\"Cross-validation scores on training set: {cv_scores}\")\n",
    "print(f\"Mean CV score: {cv_scores.mean()}\")\n",
    "\n",
    "# Check performance on the training set\n",
    "y_train_pred = svm_clf.predict(X_train_scaled)\n",
    "print(f\"Training Set Accuracy: {accuracy_score(y_train, y_train_pred)}\")\n",
    "print(f\"Training Set Classification Report:\\n{classification_report(y_train, y_train_pred)}\")\n",
    "\n",
    "# Predict on the test set using the best-found parameters\n",
    "y_test_pred = svm_clf.predict(X_test_scaled)\n",
    "print(f\"Test Set Accuracy: {accuracy_score(y_test, y_test_pred)}\")\n",
    "print(f\"Test Set Classification Report:\\n{classification_report(y_test, y_test_pred)}\")\n"
   ]
  },
  {
   "cell_type": "code",
   "execution_count": null,
   "id": "3a41d5a9",
   "metadata": {},
   "outputs": [],
   "source": []
  }
 ],
 "metadata": {
  "kernelspec": {
   "display_name": "Python 3 (ipykernel)",
   "language": "python",
   "name": "python3"
  },
  "language_info": {
   "codemirror_mode": {
    "name": "ipython",
    "version": 3
   },
   "file_extension": ".py",
   "mimetype": "text/x-python",
   "name": "python",
   "nbconvert_exporter": "python",
   "pygments_lexer": "ipython3",
   "version": "3.9.7"
  }
 },
 "nbformat": 4,
 "nbformat_minor": 5
}
