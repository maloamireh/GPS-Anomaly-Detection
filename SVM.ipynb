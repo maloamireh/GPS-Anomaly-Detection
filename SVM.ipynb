{
 "cells": [
  {
   "cell_type": "code",
   "execution_count": 10,
   "id": "1cb2e316",
   "metadata": {
    "scrolled": true
   },
   "outputs": [
    {
     "name": "stdout",
     "output_type": "stream",
     "text": [
      "Requirement already satisfied: pandas in /Users/riyakoduru/opt/anaconda3/lib/python3.9/site-packages (1.3.4)\n",
      "Requirement already satisfied: scikit-learn in /Users/riyakoduru/opt/anaconda3/lib/python3.9/site-packages (1.4.1.post1)\n",
      "Requirement already satisfied: python-dateutil>=2.7.3 in /Users/riyakoduru/opt/anaconda3/lib/python3.9/site-packages (from pandas) (2.8.2)\n",
      "Requirement already satisfied: pytz>=2017.3 in /Users/riyakoduru/opt/anaconda3/lib/python3.9/site-packages (from pandas) (2021.3)\n",
      "Requirement already satisfied: numpy>=1.17.3 in /Users/riyakoduru/opt/anaconda3/lib/python3.9/site-packages (from pandas) (1.20.3)\n",
      "Requirement already satisfied: joblib>=1.2.0 in /Users/riyakoduru/opt/anaconda3/lib/python3.9/site-packages (from scikit-learn) (1.3.2)\n",
      "Requirement already satisfied: threadpoolctl>=2.0.0 in /Users/riyakoduru/opt/anaconda3/lib/python3.9/site-packages (from scikit-learn) (2.2.0)\n",
      "Requirement already satisfied: scipy>=1.6.0 in /Users/riyakoduru/opt/anaconda3/lib/python3.9/site-packages (from scikit-learn) (1.7.1)\n",
      "Requirement already satisfied: six>=1.5 in /Users/riyakoduru/opt/anaconda3/lib/python3.9/site-packages (from python-dateutil>=2.7.3->pandas) (1.16.0)\n",
      "Note: you may need to restart the kernel to use updated packages.\n"
     ]
    }
   ],
   "source": [
    "pip install pandas scikit-learn"
   ]
  },
  {
   "cell_type": "code",
   "execution_count": 11,
   "id": "fd933f31",
   "metadata": {},
   "outputs": [
    {
     "name": "stdout",
     "output_type": "stream",
     "text": [
      "Best parameters found:  {'C': 1, 'gamma': 'scale', 'kernel': 'linear'}\n"
     ]
    },
    {
     "name": "stderr",
     "output_type": "stream",
     "text": [
      "/Users/riyakoduru/opt/anaconda3/lib/python3.9/site-packages/sklearn/model_selection/_split.py:737: UserWarning: The least populated class in y has only 4 members, which is less than n_splits=5.\n",
      "  warnings.warn(\n",
      "/Users/riyakoduru/opt/anaconda3/lib/python3.9/site-packages/sklearn/model_selection/_split.py:737: UserWarning: The least populated class in y has only 4 members, which is less than n_splits=5.\n",
      "  warnings.warn(\n",
      "/Users/riyakoduru/opt/anaconda3/lib/python3.9/site-packages/sklearn/model_selection/_split.py:737: UserWarning: The least populated class in y has only 4 members, which is less than n_splits=5.\n",
      "  warnings.warn(\n",
      "/Users/riyakoduru/opt/anaconda3/lib/python3.9/site-packages/sklearn/model_selection/_split.py:737: UserWarning: The least populated class in y has only 4 members, which is less than n_splits=5.\n",
      "  warnings.warn(\n"
     ]
    },
    {
     "name": "stdout",
     "output_type": "stream",
     "text": [
      "Cross-validation scores on training set: [0.99545455 1.         1.         1.         1.        ]\n",
      "Mean CV score: 0.9990909090909093\n",
      "Training Set Accuracy: 0.9990875912408759\n",
      "Training Set Classification Report:\n",
      "              precision    recall  f1-score   support\n",
      "\n",
      "         0.0       1.00      0.80      0.89         5\n",
      "         1.0       1.00      1.00      1.00      1091\n",
      "\n",
      "    accuracy                           1.00      1096\n",
      "   macro avg       1.00      0.90      0.94      1096\n",
      "weighted avg       1.00      1.00      1.00      1096\n",
      "\n",
      "Test Set Accuracy: 1.0\n",
      "Test Set Classification Report:\n",
      "              precision    recall  f1-score   support\n",
      "\n",
      "         0.0       1.00      1.00      1.00         3\n",
      "         1.0       1.00      1.00      1.00       468\n",
      "\n",
      "    accuracy                           1.00       471\n",
      "   macro avg       1.00      1.00      1.00       471\n",
      "weighted avg       1.00      1.00      1.00       471\n",
      "\n"
     ]
    },
    {
     "name": "stderr",
     "output_type": "stream",
     "text": [
      "/Users/riyakoduru/opt/anaconda3/lib/python3.9/site-packages/sklearn/model_selection/_split.py:737: UserWarning: The least populated class in y has only 4 members, which is less than n_splits=5.\n",
      "  warnings.warn(\n"
     ]
    }
   ],
   "source": [
    "import pandas as pd\n",
    "from sklearn.model_selection import train_test_split, GridSearchCV, cross_val_score\n",
    "from sklearn.preprocessing import StandardScaler\n",
    "from sklearn.svm import SVC\n",
    "from sklearn.metrics import classification_report, accuracy_score\n",
    "\n",
    "# Load the dataset\n",
    "file_path = '/users/riyakoduru/Downloads/avg_top10Attribute_allLocation_agg.csv'\n",
    "data = pd.read_csv(file_path)\n",
    "\n",
    "# Assuming the last column is the target variable\n",
    "X = data.iloc[:, :-1]  # All columns except the last one are features\n",
    "y = data.iloc[:, -1]   # The last column is the target\n",
    "\n",
    "# Split dataset into training and testing sets\n",
    "X_train, X_test, y_train, y_test = train_test_split(X, y, test_size=0.3, random_state=42)\n",
    "\n",
    "# Standardize features\n",
    "scaler = StandardScaler()\n",
    "X_train_scaled = scaler.fit_transform(X_train)\n",
    "X_test_scaled = scaler.transform(X_test)\n",
    "\n",
    "# Define the SVM model with GridSearchCV for hyperparameter tuning\n",
    "parameters = {\n",
    "    'C': [0.1, 1, 10, 100],  # Regularization parameter\n",
    "    'gamma': ['scale', 'auto'],  # Kernel coefficient\n",
    "    'kernel': ['rbf', 'linear']  # Type of kernel\n",
    "}\n",
    "\n",
    "svm_clf = GridSearchCV(SVC(), parameters, cv=5, scoring='accuracy')\n",
    "svm_clf.fit(X_train_scaled, y_train)\n",
    "\n",
    "# Display best parameters\n",
    "print(\"Best parameters found: \", svm_clf.best_params_)\n",
    "\n",
    "# Perform cross-validation on training set\n",
    "cv_scores = cross_val_score(svm_clf, X_train_scaled, y_train, cv=5)\n",
    "print(f\"Cross-validation scores on training set: {cv_scores}\")\n",
    "print(f\"Mean CV score: {cv_scores.mean()}\")\n",
    "\n",
    "# Check performance on training set\n",
    "y_train_pred = svm_clf.predict(X_train_scaled)\n",
    "print(f\"Training Set Accuracy: {accuracy_score(y_train, y_train_pred)}\")\n",
    "print(f\"Training Set Classification Report:\\n{classification_report(y_train, y_train_pred)}\")\n",
    "\n",
    "# Predict on the test set using best found parameters\n",
    "y_test_pred = svm_clf.predict(X_test_scaled)\n",
    "print(f\"Test Set Accuracy: {accuracy_score(y_test, y_test_pred)}\")\n",
    "print(f\"Test Set Classification Report:\\n{classification_report(y_test, y_test_pred)}\")\n"
   ]
  },
  {
   "cell_type": "code",
   "execution_count": null,
   "id": "3a2eba25",
   "metadata": {},
   "outputs": [],
   "source": []
  }
 ],
 "metadata": {
  "kernelspec": {
   "display_name": "Python 3 (ipykernel)",
   "language": "python",
   "name": "python3"
  },
  "language_info": {
   "codemirror_mode": {
    "name": "ipython",
    "version": 3
   },
   "file_extension": ".py",
   "mimetype": "text/x-python",
   "name": "python",
   "nbconvert_exporter": "python",
   "pygments_lexer": "ipython3",
   "version": "3.9.7"
  }
 },
 "nbformat": 4,
 "nbformat_minor": 5
}
